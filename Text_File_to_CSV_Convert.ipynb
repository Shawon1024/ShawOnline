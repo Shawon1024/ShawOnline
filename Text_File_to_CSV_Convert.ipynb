{
  "nbformat": 4,
  "nbformat_minor": 0,
  "metadata": {
    "colab": {
      "provenance": [],
      "authorship_tag": "ABX9TyOU4FJTDGYm4rDaM8RMfeeC",
      "include_colab_link": true
    },
    "kernelspec": {
      "name": "python3",
      "display_name": "Python 3"
    },
    "language_info": {
      "name": "python"
    }
  },
  "cells": [
    {
      "cell_type": "markdown",
      "metadata": {
        "id": "view-in-github",
        "colab_type": "text"
      },
      "source": [
        "<a href=\"https://colab.research.google.com/github/Shawon1024/ShawOnline/blob/main/Text_File_to_CSV_Convert.ipynb\" target=\"_parent\"><img src=\"https://colab.research.google.com/assets/colab-badge.svg\" alt=\"Open In Colab\"/></a>"
      ]
    },
    {
      "cell_type": "code",
      "execution_count": 12,
      "metadata": {
        "colab": {
          "base_uri": "https://localhost:8080/"
        },
        "id": "rqZJTanoDSmX",
        "outputId": "d1845255-f30f-4c4c-9e45-920e936d2bc6"
      },
      "outputs": [
        {
          "output_type": "stream",
          "name": "stdout",
          "text": [
            "Drive already mounted at /content/drive; to attempt to forcibly remount, call drive.mount(\"/content/drive\", force_remount=True).\n"
          ]
        }
      ],
      "source": [
        "from google.colab import drive\n",
        "drive.mount('/content/drive')"
      ]
    },
    {
      "cell_type": "code",
      "source": [
        "import pandas as pd\n",
        "from glob import glob\n",
        "import re"
      ],
      "metadata": {
        "id": "B5z1zaAZEzuB"
      },
      "execution_count": 13,
      "outputs": []
    },
    {
      "cell_type": "code",
      "source": [
        "path_to_files = '/content/drive/My Drive/Colab Notebooks/HARDATA/'\n",
        "gyro_files = sorted(glob(f'{path_to_files}gyro_exp*_user*.txt'))\n",
        "acc_files = sorted(glob(f'{path_to_files}acc_exp*_user*.txt'))"
      ],
      "metadata": {
        "id": "DbtanRFeFfEz"
      },
      "execution_count": 17,
      "outputs": []
    },
    {
      "cell_type": "code",
      "source": [
        "def extract_info(filename):\n",
        "  match = re.search(r'exp(\\d+)_user(\\d+)', filename)\n",
        "  return int(match.group(1)), int (match.group(2))"
      ],
      "metadata": {
        "id": "3SCP29FEGxya"
      },
      "execution_count": 18,
      "outputs": []
    },
    {
      "cell_type": "code",
      "source": [
        "merged_data = pd.DataFrame()"
      ],
      "metadata": {
        "id": "brVX-WBFHqnG"
      },
      "execution_count": 19,
      "outputs": []
    },
    {
      "cell_type": "code",
      "source": [
        "for gyro_file in gyro_files:\n",
        "  gyro_exp, gyro_user = extract_info(gyro_file)\n",
        "\n",
        "  acc_file = next((f for f in acc_files if extract_info(f) == (gyro_exp, gyro_user)), None)\n",
        "  if acc_file is None:\n",
        "    print(f\"No Matching Accelerometer File Found for {gyro_files}\")\n",
        "    continue"
      ],
      "metadata": {
        "id": "bio_lOQ4Hv2S"
      },
      "execution_count": 20,
      "outputs": []
    },
    {
      "cell_type": "code",
      "source": [
        "gyro_df = pd.read_csv(gyro_file, sep=' ', header=None, engine='python')\n",
        "acc_df = pd.read_csv(acc_file, sep=' ', header=None, engine='python')"
      ],
      "metadata": {
        "id": "Trtibx1xIUAX"
      },
      "execution_count": 21,
      "outputs": []
    },
    {
      "cell_type": "code",
      "source": [
        "gyro_columns = ['Gyro_X', 'Gyro_Y', 'Gyro_Z']\n",
        "acc_columns = ['Acc_X', 'Acc_Y', 'Acc_Z']\n",
        "\n",
        "gyro_df.columns = gyro_columns\n",
        "acc_df.columns = acc_columns"
      ],
      "metadata": {
        "id": "UGZ5_mkERW5p"
      },
      "execution_count": 22,
      "outputs": []
    },
    {
      "cell_type": "code",
      "source": [
        "current_merged_df = pd.concat([gyro_df, acc_df], axis=1)"
      ],
      "metadata": {
        "id": "htrRe6ORIls9"
      },
      "execution_count": 23,
      "outputs": []
    },
    {
      "cell_type": "code",
      "source": [
        "merged_data = pd.concat([merged_data, current_merged_df], ignore_index=True)"
      ],
      "metadata": {
        "id": "BSopmrdYI9VD"
      },
      "execution_count": 24,
      "outputs": []
    },
    {
      "cell_type": "code",
      "source": [
        "output_file = f'{path_to_files}Sensor_Data.csv'\n",
        "merged_data.to_csv(output_file, index=False)\n",
        "print(f\"Merged Data Saved to {output_file}\")"
      ],
      "metadata": {
        "colab": {
          "base_uri": "https://localhost:8080/"
        },
        "id": "4NKywyMtJGEf",
        "outputId": "7b6b4dac-4ef9-4671-9b13-25d341abd1a5"
      },
      "execution_count": 25,
      "outputs": [
        {
          "output_type": "stream",
          "name": "stdout",
          "text": [
            "Merged Data Saved to /content/drive/My Drive/Colab Notebooks/HARDATA/Sensor_Data.csv\n"
          ]
        }
      ]
    },
    {
      "cell_type": "code",
      "source": [],
      "metadata": {
        "id": "lAMWvyjJJZuI"
      },
      "execution_count": null,
      "outputs": []
    }
  ]
}