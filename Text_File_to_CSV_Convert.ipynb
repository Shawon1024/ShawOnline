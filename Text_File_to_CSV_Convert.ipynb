{
  "nbformat": 4,
  "nbformat_minor": 0,
  "metadata": {
    "colab": {
      "provenance": [],
      "authorship_tag": "ABX9TyNqDo5Mr70elABbZXJ9q6zG",
      "include_colab_link": true
    },
    "kernelspec": {
      "name": "python3",
      "display_name": "Python 3"
    },
    "language_info": {
      "name": "python"
    }
  },
  "cells": [
    {
      "cell_type": "markdown",
      "metadata": {
        "id": "view-in-github",
        "colab_type": "text"
      },
      "source": [
        "<a href=\"https://colab.research.google.com/github/Shawon1024/ShawOnline/blob/main/Text_File_to_CSV_Convert.ipynb\" target=\"_parent\"><img src=\"https://colab.research.google.com/assets/colab-badge.svg\" alt=\"Open In Colab\"/></a>"
      ]
    },
    {
      "cell_type": "code",
      "execution_count": 19,
      "metadata": {
        "colab": {
          "base_uri": "https://localhost:8080/"
        },
        "id": "rqZJTanoDSmX",
        "outputId": "9662791d-3f46-4016-c61a-a9d8b53efa8c"
      },
      "outputs": [
        {
          "output_type": "stream",
          "name": "stdout",
          "text": [
            "Drive already mounted at /content/drive; to attempt to forcibly remount, call drive.mount(\"/content/drive\", force_remount=True).\n"
          ]
        }
      ],
      "source": [
        "from google.colab import drive\n",
        "drive.mount('/content/drive')"
      ]
    },
    {
      "cell_type": "code",
      "source": [
        "import pandas as pd\n",
        "import numpy as np\n",
        "from glob import glob\n",
        "import re\n",
        "import os"
      ],
      "metadata": {
        "id": "B5z1zaAZEzuB"
      },
      "execution_count": 20,
      "outputs": []
    },
    {
      "cell_type": "code",
      "source": [
        "dataset_dir = '/content/drive/My Drive/Colab Notebooks/HARDATA/'"
      ],
      "metadata": {
        "id": "P5AeZVXbju1f"
      },
      "execution_count": 21,
      "outputs": []
    },
    {
      "cell_type": "code",
      "source": [
        "def extract_ids(filename):\n",
        "    match = re.search(r'exp(\\d+)_user(\\d+)', filename)\n",
        "    if match:\n",
        "        return map(int, match.groups())\n",
        "    else:\n",
        "        raise ValueError(f\"Filename {filename} does not match expected pattern.\")"
      ],
      "metadata": {
        "id": "prH7wHxcpTy0"
      },
      "execution_count": 38,
      "outputs": []
    },
    {
      "cell_type": "code",
      "source": [
        "activity_labels_path = os.path.join(dataset_dir, 'activity_labels.txt')\n",
        "activity_labels_df = pd.read_csv(activity_labels_path, header=None, sep=r'\\s+', engine='python', names=['id', 'activity'])\n",
        "activity_labels_dict = dict(zip(activity_labels_df.id, activity_labels_df.activity))"
      ],
      "metadata": {
        "id": "QRqvYgGrieon"
      },
      "execution_count": 40,
      "outputs": []
    },
    {
      "cell_type": "code",
      "source": [
        "features_path = os.path.join(dataset_dir, 'features.txt')\n",
        "features_df = pd.read_csv(features_path, header=None, names=['feature_names'])"
      ],
      "metadata": {
        "id": "DbtanRFeFfEz"
      },
      "execution_count": 41,
      "outputs": []
    },
    {
      "cell_type": "code",
      "source": [
        "labels_path = os.path.join(dataset_dir, 'labels.txt')\n",
        "labels_df = pd.read_csv(labels_path, header=None, sep=' ', names=['experiment', 'user', 'activity_id', 'start', 'end'])"
      ],
      "metadata": {
        "id": "3SCP29FEGxya"
      },
      "execution_count": 42,
      "outputs": []
    },
    {
      "cell_type": "code",
      "source": [
        "merged_data = pd.DataFrame()"
      ],
      "metadata": {
        "id": "3LuRsEKzpl4L"
      },
      "execution_count": 43,
      "outputs": []
    },
    {
      "cell_type": "code",
      "source": [
        "import glob"
      ],
      "metadata": {
        "id": "akF86wrCnOG3"
      },
      "execution_count": 44,
      "outputs": []
    },
    {
      "cell_type": "code",
      "source": [
        "acc_files = glob.glob(os.path.join(dataset_dir, 'acc_exp*_user*.txt'))\n",
        "gyro_files = glob.glob(os.path.join(dataset_dir, 'gyro_exp*_user*.txt'))"
      ],
      "metadata": {
        "id": "brVX-WBFHqnG"
      },
      "execution_count": 45,
      "outputs": []
    },
    {
      "cell_type": "code",
      "source": [
        "for acc_file, gyro_file in zip(sorted(acc_files), sorted(gyro_files)):\n",
        "    match_acc = re.search(r'exp(\\d+)_user(\\d+)', acc_file)\n",
        "    if match_acc:\n",
        "        exp_id, user_id = map(int, match_acc.groups())\n",
        "    else:\n",
        "        raise ValueError(f\"Filename {acc_file} does not match expected pattern.\")\n",
        "\n",
        "    activity_id = labels_df[(labels_df.experiment == exp_id) & (labels_df.user == user_id)]['activity_id'].iloc[0]\n",
        "    activity_name = activity_labels_dict[activity_id]"
      ],
      "metadata": {
        "id": "-WtyGCAbqMps"
      },
      "execution_count": 48,
      "outputs": []
    },
    {
      "cell_type": "code",
      "source": [
        "gyro_data = pd.read_csv(gyro_file, sep=' ', header=None, engine='python')\n",
        "acc_data = pd.read_csv(acc_file, sep=' ', header=None, engine='python')"
      ],
      "metadata": {
        "id": "Trtibx1xIUAX"
      },
      "execution_count": 49,
      "outputs": []
    },
    {
      "cell_type": "code",
      "source": [
        "combined_data = pd.concat([acc_data, gyro_data], axis=1)\n",
        "combined_data['activity'] = activity_name"
      ],
      "metadata": {
        "id": "zsdiarvMZHr8"
      },
      "execution_count": 50,
      "outputs": []
    },
    {
      "cell_type": "code",
      "source": [
        "merged_data = pd.concat([merged_data, combined_data], ignore_index=True)"
      ],
      "metadata": {
        "id": "BSopmrdYI9VD"
      },
      "execution_count": 51,
      "outputs": []
    },
    {
      "cell_type": "code",
      "source": [
        "feature_names = features_df['feature_names'].tolist() * 2\n",
        "feature_names.append('activity')\n",
        "merged_data.colunms = feature_names[:len(merged_data.columns)]"
      ],
      "metadata": {
        "id": "SsOiYR3tq_KM",
        "outputId": "3a2572e0-960b-44d2-c74d-fe1c7fc3e176",
        "colab": {
          "base_uri": "https://localhost:8080/"
        }
      },
      "execution_count": 53,
      "outputs": [
        {
          "output_type": "stream",
          "name": "stderr",
          "text": [
            "<ipython-input-53-c7cda795549d>:3: UserWarning: Pandas doesn't allow columns to be created via a new attribute name - see https://pandas.pydata.org/pandas-docs/stable/indexing.html#attribute-access\n",
            "  merged_data.colunms = feature_names[:len(merged_data.columns)]\n"
          ]
        }
      ]
    },
    {
      "cell_type": "code",
      "source": [
        "output_file = os.path.join(dataset_dir, 'Sensor_Data.csv')\n",
        "merged_data.to_csv(output_file, index=False)\n",
        "print(f\"Merged Data Saved to {output_file}\")"
      ],
      "metadata": {
        "colab": {
          "base_uri": "https://localhost:8080/"
        },
        "id": "4NKywyMtJGEf",
        "outputId": "4759b957-e03e-44a8-e3da-42206fb8c8a8"
      },
      "execution_count": 54,
      "outputs": [
        {
          "output_type": "stream",
          "name": "stdout",
          "text": [
            "Merged Data Saved to /content/drive/My Drive/Colab Notebooks/HARDATA/Sensor_Data.csv\n"
          ]
        }
      ]
    }
  ]
}